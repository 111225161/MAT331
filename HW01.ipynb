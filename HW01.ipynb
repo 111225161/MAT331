{
 "cells": [
  {
   "cell_type": "markdown",
   "metadata": {},
   "source": [
    "# HW01,  Due at 5:00pm, Friday, February 02, 2018\n",
    "## Please submit your homework to blackboard with file name: hw01_01234.ipynb \n",
    "\n",
    "## Please use comments to  explain your code\n"
   ]
  },
  {
   "cell_type": "markdown",
   "metadata": {},
   "source": [
    "## Problem 01\n",
    "\n",
    "Similar as Exercise 01 in $\\textbf{Lab01}$. We want to set up rolling die random variable and related event here\n",
    "\n",
    "## We need ingredients:\n",
    "\n",
    "1. sample space: $\\Omega$\n",
    "1. random variable $X:\\Omega \\rightarrow \\mathbb{R}$\n",
    "1. probability function \n",
    "\n",
    "You should set up the following functions\n",
    "\n",
    "1. Define sample space of rolling a 6-sided die labelled 1,2,3,4,5,6\n",
    "1. Define a random variable $X$ on the sample space\n",
    "1. Define probability mass function $pmff()$, assuming the die is fair\n",
    "1. Define a function that calculate probability of any given sequence to appear. round the result to 5 decimal place\n",
    "\n",
    "Then:\n",
    "for each roll in  rolls = [1, 133345, 123456, 12, 1111]\n",
    "\n",
    "print your result as following form\n",
    "\n",
    "roll = 1, probability = 0.16667"
   ]
  },
  {
   "cell_type": "code",
   "execution_count": 6,
   "metadata": {
    "collapsed": true
   },
   "outputs": [],
   "source": [
    "#1: define sample space of rolling a 6-sided die labelled 1,2,3,4,5,6\n",
    "\n",
    "\n",
    "\n",
    "\n",
    "#2: define a random variable X on the sample space\n",
    "\n",
    "\n",
    "\n",
    "\n",
    "\n",
    "#3: define probability mass function pmff(), assuming the die is fair\n",
    "\n",
    "\n",
    "\n",
    "\n",
    "#4:  \n",
    "# define a probability function Prob_f, returns probability of a given rolling \n",
    "#\n",
    "# for each roll = 1, 133345, 123456, 12, 1111\n",
    "# print your result as following form, round the probability to 5 digit\n",
    "# roll = 1, probability = 0.16667\n",
    "\n",
    "\n",
    "\n",
    "\n"
   ]
  },
  {
   "cell_type": "markdown",
   "metadata": {},
   "source": [
    "## Problem 02\n",
    "\n",
    "Same as problem 01, use the same sample space and random variable $X$\n",
    "\n",
    "1.  define probability mass function $pmfg()$, assuming the die is not fair. The probability of  getting 1 is \n",
    "    $\\frac{6}{21}$, getting 2 is $\\frac{5}{21}$, getting 3 is $\\frac{4}{21}$ getting 4 is $\\frac{3}{21}$, getting     5 is $\\frac{2}{21}$, getting 6 is $\\frac{1}{21}$\n",
    "1. define a probability function prob_g(), returns probability of any rolling result for example: Prob_f(1)    returns 0.28571 (in floating point form). Round the result to 5 decimal place\n",
    "    \n",
    "Then:\n",
    "for each roll = 1, 133345, 123456, 12, 1111\n",
    "\n",
    "print your result as following form\n",
    "\n",
    "\n",
    "roll = 1, probability = 0.28571\n",
    "\n"
   ]
  },
  {
   "cell_type": "code",
   "execution_count": null,
   "metadata": {
    "collapsed": true
   },
   "outputs": [],
   "source": []
  },
  {
   "cell_type": "code",
   "execution_count": null,
   "metadata": {
    "collapsed": true
   },
   "outputs": [],
   "source": []
  }
 ],
 "metadata": {
  "kernelspec": {
   "display_name": "Python 3",
   "language": "python",
   "name": "python3"
  },
  "language_info": {
   "codemirror_mode": {
    "name": "ipython",
    "version": 3
   },
   "file_extension": ".py",
   "mimetype": "text/x-python",
   "name": "python",
   "nbconvert_exporter": "python",
   "pygments_lexer": "ipython3",
   "version": "3.6.0"
  }
 },
 "nbformat": 4,
 "nbformat_minor": 2
}
